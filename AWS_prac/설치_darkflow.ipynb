{
 "cells": [
  {
   "cell_type": "code",
   "execution_count": 1,
   "id": "progressive-regular",
   "metadata": {},
   "outputs": [
    {
     "name": "stdout",
     "output_type": "stream",
     "text": [
      "Cloning into 'darkflow'...\n",
      "remote: Enumerating objects: 2713, done.\u001b[K\n",
      "remote: Total 2713 (delta 0), reused 0 (delta 0), pack-reused 2713\u001b[K\n",
      "Receiving objects: 100% (2713/2713), 32.98 MiB | 20.26 MiB/s, done.\n",
      "Resolving deltas: 100% (1762/1762), done.\n"
     ]
    }
   ],
   "source": [
    "!git clone https://github.com/thtrieu/darkflow.git"
   ]
  },
  {
   "cell_type": "code",
   "execution_count": 9,
   "id": "e5a8d161",
   "metadata": {},
   "outputs": [
    {
     "name": "stdout",
     "output_type": "stream",
     "text": [
      "/home/lab19/darkflow\n"
     ]
    }
   ],
   "source": [
    "cd darkflow"
   ]
  },
  {
   "cell_type": "code",
   "execution_count": 11,
   "id": "666fbdde",
   "metadata": {
    "scrolled": true
   },
   "outputs": [
    {
     "name": "stdout",
     "output_type": "stream",
     "text": [
      "setup.py:6: DeprecationWarning: the imp module is deprecated in favour of importlib; see the module's documentation for alternative uses\n",
      "  import imp\n",
      "Compiling darkflow/cython_utils/nms.pyx because it changed.\n",
      "Compiling darkflow/cython_utils/cy_yolo2_findboxes.pyx because it changed.\n",
      "Compiling darkflow/cython_utils/cy_yolo_findboxes.pyx because it changed.\n",
      "[1/3] Cythonizing darkflow/cython_utils/cy_yolo2_findboxes.pyx\n",
      "/home/lab19/.conda/envs/mino1/lib/python3.7/site-packages/Cython/Compiler/Main.py:369: FutureWarning: Cython directive 'language_level' not set, using 2 for now (Py2). This will change in a later release! File: /home/lab19/darkflow/darkflow/cython_utils/cy_yolo2_findboxes.pyx\n",
      "  tree = Parsing.p_module(s, pxd, full_module_name)\n",
      "[2/3] Cythonizing darkflow/cython_utils/cy_yolo_findboxes.pyx\n",
      "/home/lab19/.conda/envs/mino1/lib/python3.7/site-packages/Cython/Compiler/Main.py:369: FutureWarning: Cython directive 'language_level' not set, using 2 for now (Py2). This will change in a later release! File: /home/lab19/darkflow/darkflow/cython_utils/cy_yolo_findboxes.pyx\n",
      "  tree = Parsing.p_module(s, pxd, full_module_name)\n",
      "[3/3] Cythonizing darkflow/cython_utils/nms.pyx\n",
      "/home/lab19/.conda/envs/mino1/lib/python3.7/site-packages/Cython/Compiler/Main.py:369: FutureWarning: Cython directive 'language_level' not set, using 2 for now (Py2). This will change in a later release! File: /home/lab19/darkflow/darkflow/cython_utils/nms.pxd\n",
      "  tree = Parsing.p_module(s, pxd, full_module_name)\n",
      "running build_ext\n",
      "building 'darkflow.cython_utils.nms' extension\n",
      "creating build\n",
      "creating build/temp.linux-x86_64-3.7\n",
      "creating build/temp.linux-x86_64-3.7/darkflow\n",
      "creating build/temp.linux-x86_64-3.7/darkflow/cython_utils\n",
      "gcc -pthread -B /home/lab19/.conda/envs/mino1/compiler_compat -Wl,--sysroot=/ -Wsign-compare -DNDEBUG -g -fwrapv -O3 -Wall -Wstrict-prototypes -fPIC -I/home/lab19/.conda/envs/mino1/lib/python3.7/site-packages/numpy/core/include -I/home/lab19/.conda/envs/mino1/include/python3.7m -c darkflow/cython_utils/nms.c -o build/temp.linux-x86_64-3.7/darkflow/cython_utils/nms.o\n",
      "In file included from \u001b[01m\u001b[K/home/lab19/.conda/envs/mino1/lib/python3.7/site-packages/numpy/core/include/numpy/ndarraytypes.h:1822:0\u001b[m\u001b[K,\n",
      "                 from \u001b[01m\u001b[K/home/lab19/.conda/envs/mino1/lib/python3.7/site-packages/numpy/core/include/numpy/ndarrayobject.h:12\u001b[m\u001b[K,\n",
      "                 from \u001b[01m\u001b[K/home/lab19/.conda/envs/mino1/lib/python3.7/site-packages/numpy/core/include/numpy/arrayobject.h:4\u001b[m\u001b[K,\n",
      "                 from \u001b[01m\u001b[Kdarkflow/cython_utils/nms.c:632\u001b[m\u001b[K:\n",
      "\u001b[01m\u001b[K/home/lab19/.conda/envs/mino1/lib/python3.7/site-packages/numpy/core/include/numpy/npy_1_7_deprecated_api.h:17:2:\u001b[m\u001b[K \u001b[01;35m\u001b[Kwarning: \u001b[m\u001b[K#warning \"Using deprecated NumPy API, disable it with \" \"#define NPY_NO_DEPRECATED_API NPY_1_7_API_VERSION\" [\u001b[01;35m\u001b[K-Wcpp\u001b[m\u001b[K]\n",
      " #\u001b[01;35m\u001b[Kwarning\u001b[m\u001b[K \"Using deprecated NumPy API, disable it with \" \\\n",
      "  \u001b[01;35m\u001b[K^~~~~~~\u001b[m\u001b[K\n",
      "creating build/lib.linux-x86_64-3.7\n",
      "creating build/lib.linux-x86_64-3.7/darkflow\n",
      "creating build/lib.linux-x86_64-3.7/darkflow/cython_utils\n",
      "gcc -pthread -shared -B /home/lab19/.conda/envs/mino1/compiler_compat -L/home/lab19/.conda/envs/mino1/lib -Wl,-rpath=/home/lab19/.conda/envs/mino1/lib -Wl,--no-as-needed -Wl,--sysroot=/ build/temp.linux-x86_64-3.7/darkflow/cython_utils/nms.o -lm -o build/lib.linux-x86_64-3.7/darkflow/cython_utils/nms.cpython-37m-x86_64-linux-gnu.so\n",
      "building 'darkflow.cython_utils.cy_yolo2_findboxes' extension\n",
      "gcc -pthread -B /home/lab19/.conda/envs/mino1/compiler_compat -Wl,--sysroot=/ -Wsign-compare -DNDEBUG -g -fwrapv -O3 -Wall -Wstrict-prototypes -fPIC -I/home/lab19/.conda/envs/mino1/lib/python3.7/site-packages/numpy/core/include -I/home/lab19/.conda/envs/mino1/include/python3.7m -c darkflow/cython_utils/cy_yolo2_findboxes.c -o build/temp.linux-x86_64-3.7/darkflow/cython_utils/cy_yolo2_findboxes.o\n",
      "In file included from \u001b[01m\u001b[K/home/lab19/.conda/envs/mino1/lib/python3.7/site-packages/numpy/core/include/numpy/ndarraytypes.h:1822:0\u001b[m\u001b[K,\n",
      "                 from \u001b[01m\u001b[K/home/lab19/.conda/envs/mino1/lib/python3.7/site-packages/numpy/core/include/numpy/ndarrayobject.h:12\u001b[m\u001b[K,\n",
      "                 from \u001b[01m\u001b[K/home/lab19/.conda/envs/mino1/lib/python3.7/site-packages/numpy/core/include/numpy/arrayobject.h:4\u001b[m\u001b[K,\n",
      "                 from \u001b[01m\u001b[Kdarkflow/cython_utils/cy_yolo2_findboxes.c:632\u001b[m\u001b[K:\n",
      "\u001b[01m\u001b[K/home/lab19/.conda/envs/mino1/lib/python3.7/site-packages/numpy/core/include/numpy/npy_1_7_deprecated_api.h:17:2:\u001b[m\u001b[K \u001b[01;35m\u001b[Kwarning: \u001b[m\u001b[K#warning \"Using deprecated NumPy API, disable it with \" \"#define NPY_NO_DEPRECATED_API NPY_1_7_API_VERSION\" [\u001b[01;35m\u001b[K-Wcpp\u001b[m\u001b[K]\n",
      " #\u001b[01;35m\u001b[Kwarning\u001b[m\u001b[K \"Using deprecated NumPy API, disable it with \" \\\n",
      "  \u001b[01;35m\u001b[K^~~~~~~\u001b[m\u001b[K\n",
      "gcc -pthread -shared -B /home/lab19/.conda/envs/mino1/compiler_compat -L/home/lab19/.conda/envs/mino1/lib -Wl,-rpath=/home/lab19/.conda/envs/mino1/lib -Wl,--no-as-needed -Wl,--sysroot=/ build/temp.linux-x86_64-3.7/darkflow/cython_utils/cy_yolo2_findboxes.o -lm -o build/lib.linux-x86_64-3.7/darkflow/cython_utils/cy_yolo2_findboxes.cpython-37m-x86_64-linux-gnu.so\n",
      "building 'darkflow.cython_utils.cy_yolo_findboxes' extension\n",
      "gcc -pthread -B /home/lab19/.conda/envs/mino1/compiler_compat -Wl,--sysroot=/ -Wsign-compare -DNDEBUG -g -fwrapv -O3 -Wall -Wstrict-prototypes -fPIC -I/home/lab19/.conda/envs/mino1/lib/python3.7/site-packages/numpy/core/include -I/home/lab19/.conda/envs/mino1/include/python3.7m -c darkflow/cython_utils/cy_yolo_findboxes.c -o build/temp.linux-x86_64-3.7/darkflow/cython_utils/cy_yolo_findboxes.o\n",
      "In file included from \u001b[01m\u001b[K/home/lab19/.conda/envs/mino1/lib/python3.7/site-packages/numpy/core/include/numpy/ndarraytypes.h:1822:0\u001b[m\u001b[K,\n",
      "                 from \u001b[01m\u001b[K/home/lab19/.conda/envs/mino1/lib/python3.7/site-packages/numpy/core/include/numpy/ndarrayobject.h:12\u001b[m\u001b[K,\n",
      "                 from \u001b[01m\u001b[K/home/lab19/.conda/envs/mino1/lib/python3.7/site-packages/numpy/core/include/numpy/arrayobject.h:4\u001b[m\u001b[K,\n",
      "                 from \u001b[01m\u001b[Kdarkflow/cython_utils/cy_yolo_findboxes.c:632\u001b[m\u001b[K:\n",
      "\u001b[01m\u001b[K/home/lab19/.conda/envs/mino1/lib/python3.7/site-packages/numpy/core/include/numpy/npy_1_7_deprecated_api.h:17:2:\u001b[m\u001b[K \u001b[01;35m\u001b[Kwarning: \u001b[m\u001b[K#warning \"Using deprecated NumPy API, disable it with \" \"#define NPY_NO_DEPRECATED_API NPY_1_7_API_VERSION\" [\u001b[01;35m\u001b[K-Wcpp\u001b[m\u001b[K]\n",
      " #\u001b[01;35m\u001b[Kwarning\u001b[m\u001b[K \"Using deprecated NumPy API, disable it with \" \\\n",
      "  \u001b[01;35m\u001b[K^~~~~~~\u001b[m\u001b[K\n",
      "gcc -pthread -shared -B /home/lab19/.conda/envs/mino1/compiler_compat -L/home/lab19/.conda/envs/mino1/lib -Wl,-rpath=/home/lab19/.conda/envs/mino1/lib -Wl,--no-as-needed -Wl,--sysroot=/ build/temp.linux-x86_64-3.7/darkflow/cython_utils/cy_yolo_findboxes.o -lm -o build/lib.linux-x86_64-3.7/darkflow/cython_utils/cy_yolo_findboxes.cpython-37m-x86_64-linux-gnu.so\n",
      "copying build/lib.linux-x86_64-3.7/darkflow/cython_utils/nms.cpython-37m-x86_64-linux-gnu.so -> darkflow/cython_utils\n",
      "copying build/lib.linux-x86_64-3.7/darkflow/cython_utils/cy_yolo2_findboxes.cpython-37m-x86_64-linux-gnu.so -> darkflow/cython_utils\n",
      "copying build/lib.linux-x86_64-3.7/darkflow/cython_utils/cy_yolo_findboxes.cpython-37m-x86_64-linux-gnu.so -> darkflow/cython_utils\n"
     ]
    }
   ],
   "source": [
    "!python setup.py build_ext --inplace"
   ]
  },
  {
   "cell_type": "code",
   "execution_count": 12,
   "id": "0c7d4efe",
   "metadata": {},
   "outputs": [
    {
     "name": "stdout",
     "output_type": "stream",
     "text": [
      "Processing /home/lab19/darkflow\n",
      "Building wheels for collected packages: darkflow\n",
      "  Building wheel for darkflow (setup.py) ... \u001b[?25ldone\n",
      "\u001b[?25h  Created wheel for darkflow: filename=darkflow-1.0.0-cp37-cp37m-linux_x86_64.whl size=867572 sha256=699e7742505c49eab7b05d6b2e7875417c9d97c3998dfa8bca889d4b30176e8f\n",
      "  Stored in directory: /tmp/pip-ephem-wheel-cache-yil99516/wheels/b8/c5/51/63b4ae510e1d73c00801b931dd280a4e3dea0bd4131d7d9e5f\n",
      "Successfully built darkflow\n",
      "Installing collected packages: darkflow\n",
      "Successfully installed darkflow-1.0.0\n"
     ]
    }
   ],
   "source": [
    "!pip install ."
   ]
  }
 ],
 "metadata": {
  "kernelspec": {
   "display_name": "Python 3",
   "language": "python",
   "name": "python3"
  },
  "language_info": {
   "codemirror_mode": {
    "name": "ipython",
    "version": 3
   },
   "file_extension": ".py",
   "mimetype": "text/x-python",
   "name": "python",
   "nbconvert_exporter": "python",
   "pygments_lexer": "ipython3",
   "version": "3.7.10"
  }
 },
 "nbformat": 4,
 "nbformat_minor": 5
}
