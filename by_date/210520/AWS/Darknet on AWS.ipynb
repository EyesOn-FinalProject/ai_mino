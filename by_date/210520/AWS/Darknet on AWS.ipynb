{
 "cells": [
  {
   "cell_type": "markdown",
   "metadata": {},
   "source": [
    "- 기본 환경 체크"
   ]
  },
  {
   "cell_type": "code",
   "execution_count": null,
   "metadata": {},
   "outputs": [],
   "source": [
    "!nvidia-smi                             # GPU 정보 확인\n",
    "!head /proc/cpuinfo                     # CPU 정보 확인\n",
    "!/usr/local/cuda/bin/nvcc --version     # CUDA 정보 확인\n",
    "!pkg-config --modversion opencv         # openCV 정보 확인"
   ]
  },
  {
   "cell_type": "markdown",
   "metadata": {
    "id": "SaOJo2qL5pPw"
   },
   "source": [
    "# darknet 설치\n",
    "- YOLOv4 튜토리얼 코드 그대로 사용\n",
    "- 파일 경로들만 조금 다름"
   ]
  },
  {
   "cell_type": "code",
   "execution_count": null,
   "metadata": {},
   "outputs": [],
   "source": [
    "# darknet 설치\n",
    "!git clone https://github.com/AlexeyAB/darknet"
   ]
  },
  {
   "cell_type": "code",
   "execution_count": null,
   "metadata": {},
   "outputs": [],
   "source": [
    "# openCV, CUDA, cuDNN 사용을 위한 설정\n",
    "%cd darknet\n",
    "!sed -i 's/OPENCV=0/OPENCV=1/' Makefile\n",
    "!sed -i 's/GPU=0/GPU=1/' Makefile\n",
    "!sed -i 's/CUDNN=0/CUDNN=1/' Makefile\n",
    "# !sed -i 's/CUDNN_HALF=0/CUDNN_HALF=1/' Makefile\n",
    "# cuDNN_HALF는 NVIDIA 상위 GPU 기종에서 사용가능\n",
    "# AWS는 NVIDIA Tesla M60 이라 cuDNN HALF 안쓸 듯"
   ]
  },
  {
   "cell_type": "markdown",
   "metadata": {},
   "source": [
    "# !make 실행 전 설정 변경\n",
    "- `darknet / src / network_kernels.cu`\n",
    "- line 706\n",
    "- `CHECK_CUDA(cudaStreamBeginCapture(stream0, cudaStreamCaptureModeGlobal));`에서\n",
    "`cudaStreamCaptureModeGlobal` 파라미터 제거\n",
    "- After : `CHECK_CUDA(cudaStreamBeginCapture(stream0));`"
   ]
  },
  {
   "cell_type": "code",
   "execution_count": null,
   "metadata": {},
   "outputs": [],
   "source": [
    "!make"
   ]
  },
  {
   "cell_type": "markdown",
   "metadata": {
    "id": "MwHUkUzItscu"
   },
   "source": [
    "# 튜토리얼"
   ]
  },
  {
   "cell_type": "code",
   "execution_count": null,
   "metadata": {
    "id": "qathEbgy54bZ"
   },
   "outputs": [],
   "source": [
    "# 튜토리얼을 위한 weights 파일 다운로드\n",
    "!wget https://github.com/AlexeyAB/darknet/releases/download/darknet_yolo_v3_optimal/yolov4.weights"
   ]
  },
  {
   "cell_type": "code",
   "execution_count": null,
   "metadata": {
    "id": "zn1AfUfn6m21"
   },
   "outputs": [],
   "source": [
    "# 기본 테스트 이미지(person) 사용\n",
    "!./darknet detector test cfg/coco.data cfg/yolov4.cfg yolov4.weights data/person.jpg"
   ]
  },
  {
   "cell_type": "markdown",
   "metadata": {
    "id": "iTdtUQZs-CoI"
   },
   "source": [
    "# Custom Training"
   ]
  },
  {
   "cell_type": "code",
   "execution_count": null,
   "metadata": {},
   "outputs": [],
   "source": [
    "# [경로 변경]\n",
    "# data 다운로드 받을 경로 설정\n",
    "%cd /home/lab19/mino5/darknet/data"
   ]
  },
  {
   "cell_type": "code",
   "execution_count": null,
   "metadata": {
    "id": "Qj2wvUnAtTWM"
   },
   "outputs": [],
   "source": [
    "# data 다운로드\n",
    "!git clone https://github.com/EyesOn-FinalProject/bus_img.git"
   ]
  },
  {
   "cell_type": "code",
   "execution_count": null,
   "metadata": {
    "id": "wlJbDs69kkLx"
   },
   "outputs": [],
   "source": [
    "# [경로 변경]\n",
    "# 학습 시작하기 위한 경로 설정\n",
    "%cd /home/lab19/mino5/darknet"
   ]
  },
  {
   "cell_type": "code",
   "execution_count": null,
   "metadata": {
    "id": "tmOq18aoNkMz"
   },
   "outputs": [],
   "source": [
    "# 아래 ./darknet ~ 코드 실행 시\n",
    "# /bin/bash: ./darknet: Permission denied 에러 발생하면 아래 코드 실행\n",
    "!chmod +x ./darknet"
   ]
  },
  {
   "cell_type": "code",
   "execution_count": null,
   "metadata": {
    "id": "qi9y8qn7-CUc"
   },
   "outputs": [],
   "source": [
    "# 학습 시작\n",
    "# !./darknet detector train <.data> <.cfg> <weights> -dont_show -map\n",
    "!./darknet detector train cfg/obj.data cfg/yolov4-tiny-obj.cfg yolov4-tiny.conv.29 -dont_show -map"
   ]
  },
  {
   "cell_type": "markdown",
   "metadata": {
    "id": "RSk13FQiTmsg"
   },
   "source": [
    "# Test\n",
    "- https://github.com/AlexeyAB/darknet#how-to-use-on-the-command-line"
   ]
  },
  {
   "cell_type": "markdown",
   "metadata": {
    "id": "UkGdrayvzQdc"
   },
   "source": [
    "## Video + NMS + drawing_bboxes"
   ]
  },
  {
   "cell_type": "code",
   "execution_count": null,
   "metadata": {
    "id": "YqszcQbXzV9R"
   },
   "outputs": [],
   "source": [
    "# !./darknet detector demo cfg/__.data cfg/__.cfg __.weights __.mp4 -dont_show -ext_output"
   ]
  },
  {
   "cell_type": "code",
   "execution_count": null,
   "metadata": {},
   "outputs": [],
   "source": [
    "!./darknet detector demo cfg/obj.data cfg/yolov4-obj.cfg backup/yolov4-obj_best.weights data/green_test2.mp4 -dont_show -out_filename green_test2_out_0520_v4_best.avi"
   ]
  }
 ],
 "metadata": {
  "accelerator": "GPU",
  "colab": {
   "collapsed_sections": [
    "kFORho5st4gQ",
    "MwHUkUzItscu"
   ],
   "machine_shape": "hm",
   "name": "Darknet on Colab.ipynb",
   "provenance": []
  },
  "kernelspec": {
   "display_name": "Python 3",
   "language": "python",
   "name": "python3"
  },
  "language_info": {
   "codemirror_mode": {
    "name": "ipython",
    "version": 3
   },
   "file_extension": ".py",
   "mimetype": "text/x-python",
   "name": "python",
   "nbconvert_exporter": "python",
   "pygments_lexer": "ipython3",
   "version": "3.6.9"
  }
 },
 "nbformat": 4,
 "nbformat_minor": 1
}
