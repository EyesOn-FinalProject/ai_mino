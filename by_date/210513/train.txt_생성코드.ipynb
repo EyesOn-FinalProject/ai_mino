{
 "cells": [
  {
   "cell_type": "code",
   "execution_count": 1,
   "id": "municipal-repository",
   "metadata": {},
   "outputs": [
    {
     "name": "stdout",
     "output_type": "stream",
     "text": [
      "Percent: [----------------------------------------------------------------------------------------------->    ] 96%"
     ]
    }
   ],
   "source": [
    "#-*- coding:utf-8 -*-\n",
    "import os\n",
    "import sys\n",
    "\n",
    "CURRENT_DIR = os.getcwd()\n",
    "\n",
    "def progressBar(value, endvalue, bar_length=20):\n",
    "  percent = float(value) / endvalue\n",
    "  arrow = '-' * int(round(percent * bar_length)-1) + '>'\n",
    "  spaces = ' ' * (bar_length - len(arrow))\n",
    "\n",
    "  sys.stdout.write(\"\\rPercent: [{0}] {1}%\".format(arrow + spaces, int(round(percent * 100))))\n",
    "  sys.stdout.flush()\n",
    "\n",
    "def returnFileList(dirname, extract):\n",
    "  fileList = []\n",
    "  filenames = os.listdir(dirname)\n",
    "  for filename in filenames:\n",
    "    ext = os.path.splitext(filename)[-1]\n",
    "    if ext == extract: \n",
    "      fileList.append(filename)\n",
    "  return fileList\n",
    "\n",
    "with open(\"./list.txt\",\"w\") as fileList:\n",
    "  fileNames = returnFileList(CURRENT_DIR, \".jpg\")\n",
    "  \n",
    "  for i, fileName in enumerate(fileNames):\n",
    "#     fileList.write(CURRENT_DIR+\"\\\\\"+fileName+\"\\n\") -> 원래 코드인데 파일 이름 앞에 역슬래쉬 생겨서 오류 떴음.\n",
    "#     fileList.write(CURRENT_DIR+\"/\"+fileName+\"\\n\")\n",
    "    fileList.write(\"data\"+\"/\"+fileName+\"\\n\")\n",
    "    progressBar(i, len(fileNames), bar_length=100)"
   ]
  },
  {
   "cell_type": "code",
   "execution_count": null,
   "id": "editorial-brisbane",
   "metadata": {},
   "outputs": [],
   "source": []
  }
 ],
 "metadata": {
  "kernelspec": {
   "display_name": "Python 3",
   "language": "python",
   "name": "python3"
  },
  "language_info": {
   "codemirror_mode": {
    "name": "ipython",
    "version": 3
   },
   "file_extension": ".py",
   "mimetype": "text/x-python",
   "name": "python",
   "nbconvert_exporter": "python",
   "pygments_lexer": "ipython3",
   "version": "3.6.9"
  }
 },
 "nbformat": 4,
 "nbformat_minor": 5
}
